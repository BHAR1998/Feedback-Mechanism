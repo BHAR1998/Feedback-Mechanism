{
  "nbformat": 4,
  "nbformat_minor": 0,
  "metadata": {
    "colab": {
      "provenance": []
    },
    "kernelspec": {
      "name": "python3",
      "display_name": "Python 3"
    },
    "language_info": {
      "name": "python"
    }
  },
  "cells": [
    {
      "cell_type": "code",
      "execution_count": null,
      "metadata": {
        "id": "6EQe5oUYpTAM"
      },
      "outputs": [],
      "source": [
        "import os\n",
        "import openai\n",
        "from moviepy.editor import *\n",
        "from gtts import gTTS\n",
        "import tempfile\n",
        "\n",
        "# Set your OpenAI API key from the environment variable\n",
        "openai.api_key = os.getenv('OPENAI_API_KEY')\n",
        "\n",
        "# Example textual feedback (can be generated using OpenAI API)\n",
        "text_feedback = \"This is your feedback message. You did a great job!\"\n",
        "\n",
        "# 1. Generate audio from text feedback using Google Text-to-Speech (gTTS)\n",
        "tts = gTTS(text=text_feedback, lang='en')\n",
        "\n",
        "# Use a temporary file to store the audio\n",
        "with tempfile.NamedTemporaryFile(delete=False, suffix='.mp3') as audio_file:\n",
        "    tts.save(audio_file.name)\n",
        "\n",
        "# 2. Create a video clip with a solid color (or load a background video)\n",
        "video_duration = 10  # seconds\n",
        "video_clip = ColorClip(size=(640, 480), color=(255, 255, 255), duration=video_duration)\n",
        "\n",
        "# 3. Load the audio file and set it to the video clip\n",
        "audio_clip = AudioFileClip(audio_file.name)\n",
        "video_clip = video_clip.set_audio(audio_clip)\n",
        "\n",
        "# 4. Load the character animation video or image\n",
        "# Assuming you have an animation video of the lady reading feedback\n",
        "character_animation = VideoFileClip(\"character_animation.mp4\").set_duration(video_duration)\n",
        "\n",
        "# 5. Overlay the character animation on the video\n",
        "final_video = CompositeVideoClip([video_clip, character_animation.set_position((\"center\", \"center\"))])\n",
        "\n",
        "# 6. Write the final video to a file\n",
        "output_file = \"enhanced_video_feedback.mp4\"\n",
        "final_video.write_videofile(output_file, fps=24)\n",
        "\n",
        "# Clean up the temporary audio file\n",
        "os.remove(audio_file.name)\n",
        "\n",
        "print(f\"Video feedback created successfully: {output_file}\")\n"
      ]
    }
  ]
}